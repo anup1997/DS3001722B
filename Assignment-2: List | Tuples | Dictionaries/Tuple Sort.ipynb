{
 "cells": [
  {
   "cell_type": "code",
   "execution_count": 5,
   "id": "dbdebdc3",
   "metadata": {},
   "outputs": [
    {
     "name": "stdout",
     "output_type": "stream",
     "text": [
      "[(2, 1), (1, 2), (2, 3), (4, 4), (2, 5)]\n"
     ]
    }
   ],
   "source": [
    "t =[(2, 5), (1, 2), (4, 4), (2, 3), (2, 1)]\n",
    "length = len(t)\n",
    "\n",
    "for i in range(0, length):\n",
    "    for j in range(0, length-i-1):\n",
    "        if (t[j][-1] > t[j + 1][-1]):\n",
    "            temp = t[j]\n",
    "            t[j]= t[j + 1]\n",
    "            t[j + 1]= temp\n",
    "            \n",
    "print(t)\n"
   ]
  }
 ],
 "metadata": {
  "kernelspec": {
   "display_name": "Python 3 (ipykernel)",
   "language": "python",
   "name": "python3"
  },
  "language_info": {
   "codemirror_mode": {
    "name": "ipython",
    "version": 3
   },
   "file_extension": ".py",
   "mimetype": "text/x-python",
   "name": "python",
   "nbconvert_exporter": "python",
   "pygments_lexer": "ipython3",
   "version": "3.9.7"
  }
 },
 "nbformat": 4,
 "nbformat_minor": 5
}
