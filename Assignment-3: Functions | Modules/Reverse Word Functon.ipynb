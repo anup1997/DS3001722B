{
 "cells": [
  {
   "cell_type": "code",
   "execution_count": 8,
   "id": "2aea9425",
   "metadata": {},
   "outputs": [
    {
     "name": "stdout",
     "output_type": "stream",
     "text": [
      "Enter Word: 1234abcd\n",
      "Reverse Word:  dcba4321\n"
     ]
    }
   ],
   "source": [
    "def reverse_word(word):\n",
    "    rw = ''\n",
    "    for i in word:\n",
    "        rw = i + rw\n",
    "    print('Reverse Word: ',rw)\n",
    "    \n",
    "word =input('Enter Word: ')\n",
    "reverse_word(word)"
   ]
  }
 ],
 "metadata": {
  "kernelspec": {
   "display_name": "Python 3 (ipykernel)",
   "language": "python",
   "name": "python3"
  },
  "language_info": {
   "codemirror_mode": {
    "name": "ipython",
    "version": 3
   },
   "file_extension": ".py",
   "mimetype": "text/x-python",
   "name": "python",
   "nbconvert_exporter": "python",
   "pygments_lexer": "ipython3",
   "version": "3.10.2"
  }
 },
 "nbformat": 4,
 "nbformat_minor": 5
}
