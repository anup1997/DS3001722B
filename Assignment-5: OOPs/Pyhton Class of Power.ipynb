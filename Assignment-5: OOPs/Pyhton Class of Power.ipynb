{
 "cells": [
  {
   "cell_type": "code",
   "execution_count": 34,
   "id": "89262f38",
   "metadata": {},
   "outputs": [
    {
     "name": "stdout",
     "output_type": "stream",
     "text": [
      "Enter Base x - 10\n",
      "Enter Power n - 2\n",
      "Answer -  1000\n"
     ]
    }
   ],
   "source": [
    "x= int(input(\"Enter Base x - \"))\n",
    "n = int(input(\"Enter Power n - \"))\n",
    "\n",
    "class Power:\n",
    "    def power(self,x,n):\n",
    "        self.x=x\n",
    "        self.n=n\n",
    "        if self.x==0 or self.x==1 or self.n==1:\n",
    "            return self.x\n",
    "        if self.x==-1:\n",
    "            if self.n%2 ==0:\n",
    "                return 1\n",
    "            else: \n",
    "                return -1\n",
    "        if self.n==0:\n",
    "            return 1\n",
    "        if self.n<0:\n",
    "            return 1/self.powe(x,-n)\n",
    "       \n",
    "        val = self.powe(x,n//2)\n",
    "        \n",
    "        if self.n%2 ==0:\n",
    "            return val*val\n",
    "        return val*val*self.x\n",
    "\n",
    "\n",
    "print(\"Answer - \", power().powe(x,n));"
   ]
  },
  {
   "cell_type": "code",
   "execution_count": null,
   "id": "23b7e0f9",
   "metadata": {},
   "outputs": [],
   "source": []
  }
 ],
 "metadata": {
  "kernelspec": {
   "display_name": "Python 3 (ipykernel)",
   "language": "python",
   "name": "python3"
  },
  "language_info": {
   "codemirror_mode": {
    "name": "ipython",
    "version": 3
   },
   "file_extension": ".py",
   "mimetype": "text/x-python",
   "name": "python",
   "nbconvert_exporter": "python",
   "pygments_lexer": "ipython3",
   "version": "3.10.2"
  }
 },
 "nbformat": 4,
 "nbformat_minor": 5
}
