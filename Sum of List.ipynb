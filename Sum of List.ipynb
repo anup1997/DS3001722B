{
 "cells": [
  {
   "cell_type": "code",
   "execution_count": 15,
   "id": "728eb4e6",
   "metadata": {},
   "outputs": [
    {
     "name": "stdout",
     "output_type": "stream",
     "text": [
      "List elements: 8 2 3 0 7\n",
      "20\n"
     ]
    }
   ],
   "source": [
    "def Sum(List):\n",
    "    total = 0\n",
    "    for i in List:\n",
    "        total += int(i)\n",
    "    return total\n",
    "\n",
    "L =list(input('List elements: ').split(' '))#Enter the elements with space in between\n",
    "print(Sum(L))"
   ]
  },
  {
   "cell_type": "code",
   "execution_count": null,
   "id": "d5a98e5c",
   "metadata": {},
   "outputs": [],
   "source": []
  }
 ],
 "metadata": {
  "kernelspec": {
   "display_name": "Python 3 (ipykernel)",
   "language": "python",
   "name": "python3"
  },
  "language_info": {
   "codemirror_mode": {
    "name": "ipython",
    "version": 3
   },
   "file_extension": ".py",
   "mimetype": "text/x-python",
   "name": "python",
   "nbconvert_exporter": "python",
   "pygments_lexer": "ipython3",
   "version": "3.10.2"
  }
 },
 "nbformat": 4,
 "nbformat_minor": 5
}
