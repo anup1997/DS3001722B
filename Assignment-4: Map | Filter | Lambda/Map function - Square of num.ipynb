{
 "cells": [
  {
   "cell_type": "code",
   "execution_count": 7,
   "id": "508daebc",
   "metadata": {},
   "outputs": [
    {
     "name": "stdout",
     "output_type": "stream",
     "text": [
      "4 5 2 9\n",
      "The List:  [4, 5, 2, 9]\n",
      "Square of List numbers:  [16, 25, 4, 81]\n"
     ]
    }
   ],
   "source": [
    "List1 = [int(a) for a in input().split()]#Enter the elements with space in between\n",
    "print(\"The List: \",List1)\n",
    "Square = map(lambda a: a**2, List1)\n",
    "print(\"Square of List numbers: \", list(Square))"
   ]
  },
  {
   "cell_type": "code",
   "execution_count": null,
   "id": "5665178c",
   "metadata": {},
   "outputs": [],
   "source": []
  }
 ],
 "metadata": {
  "kernelspec": {
   "display_name": "Python 3 (ipykernel)",
   "language": "python",
   "name": "python3"
  },
  "language_info": {
   "codemirror_mode": {
    "name": "ipython",
    "version": 3
   },
   "file_extension": ".py",
   "mimetype": "text/x-python",
   "name": "python",
   "nbconvert_exporter": "python",
   "pygments_lexer": "ipython3",
   "version": "3.10.2"
  }
 },
 "nbformat": 4,
 "nbformat_minor": 5
}
