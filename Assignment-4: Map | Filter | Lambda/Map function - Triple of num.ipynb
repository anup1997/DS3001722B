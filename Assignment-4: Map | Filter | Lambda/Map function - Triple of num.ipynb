{
 "cells": [
  {
   "cell_type": "code",
   "execution_count": 25,
   "id": "cd64dcf3",
   "metadata": {},
   "outputs": [
    {
     "name": "stdout",
     "output_type": "stream",
     "text": [
      "1 2 3 4 5 6 7\n",
      "The List:  [1, 2, 3, 4, 5, 6, 7]\n",
      "Triple of numbers:  [3, 6, 9, 12, 15, 18, 21]\n"
     ]
    }
   ],
   "source": [
    "List1 = [int(a) for a in input().split()]#Enter the elements with space in between\n",
    "print(\"The List: \",List1)\n",
    "Triple = map(lambda a: 3*a, List1)\n",
    "print(\"Triple of numbers: \", list(Triple))"
   ]
  },
  {
   "cell_type": "code",
   "execution_count": null,
   "id": "0b8f9753",
   "metadata": {},
   "outputs": [],
   "source": []
  }
 ],
 "metadata": {
  "kernelspec": {
   "display_name": "Python 3 (ipykernel)",
   "language": "python",
   "name": "python3"
  },
  "language_info": {
   "codemirror_mode": {
    "name": "ipython",
    "version": 3
   },
   "file_extension": ".py",
   "mimetype": "text/x-python",
   "name": "python",
   "nbconvert_exporter": "python",
   "pygments_lexer": "ipython3",
   "version": "3.10.2"
  }
 },
 "nbformat": 4,
 "nbformat_minor": 5
}
